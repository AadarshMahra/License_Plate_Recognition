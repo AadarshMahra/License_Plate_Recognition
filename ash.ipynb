{
 "cells": [
  {
   "cell_type": "code",
   "execution_count": 1,
   "id": "3fea01c7-347c-44e0-ad25-8e34755f5b0a",
   "metadata": {},
   "outputs": [],
   "source": [
    "import numpy as np \n",
    "import cv2\n",
    "import tensorflow as tf \n",
    "from tensorflow import keras\n",
    "\n",
    "from tensorflow.keras.models import Sequential\n",
    "from tensorflow.keras.layers import Activation, Dense, Flatten, BatchNormalization, Conv2D, MaxPool2D\n",
    "from tensorflow.keras.optimizers import Adam \n",
    "from tensorflow.keras.metrics import categorical_crossentropy\n",
    "from tensorflow.keras.preprocessing.image import ImageDataGenerator\n",
    "\n",
    "import itertools\n",
    "import os\n",
    "import shutil \n",
    "import random \n",
    "import glob \n",
    "import matplotlib.pyplot as plt \n",
    "import warnings "
   ]
  },
  {
   "cell_type": "code",
   "execution_count": 2,
   "id": "57c63268-4a31-4118-b66d-b42079a0f050",
   "metadata": {},
   "outputs": [],
   "source": [
    "DATADIR = '/Users/aadarshmahra/Desktop/CODE/PYTHON/LPR/data/CNN_letter_Dataset'\n",
    "CATEGORIES = ['0', '1', '2', '3', '4', '5', '6', '7', '8', '9', 'A', 'B', 'C', 'D',\n",
    "             'E', 'F', 'G', 'H', 'I', 'J', 'K', 'L', 'M', 'N', 'P', 'Q', 'R',\n",
    "             'S', 'T', 'U', 'V', 'W', 'X', 'Y', 'Z']  # Z's index is 34\n",
    "IMG_SIZE = 50\n"
   ]
  },
  {
   "cell_type": "code",
   "execution_count": 3,
   "id": "7b5b7cdd-5ea2-46f4-adfb-46c26c0a53b1",
   "metadata": {},
   "outputs": [
    {
     "name": "stdout",
     "output_type": "stream",
     "text": [
      "35500\n"
     ]
    }
   ],
   "source": [
    "training_data = [] # contains tuples -> (img_data, label)\n",
    "\n",
    "def create_training_data(): \n",
    "    for category in CATEGORIES: \n",
    "        curr_dir = os.path.join(DATADIR,category)\n",
    "        class_num = CATEGORIES.index(category)\n",
    "        for img in os.listdir(curr_dir): \n",
    "            try: \n",
    "                img_path = os.path.join(curr_dir,img)  #file path to current img\n",
    "                img_array = cv2.imread(img_path, cv2.IMREAD_GRAYSCALE)\n",
    "                new_array = cv2.resize(img_array, (IMG_SIZE, IMG_SIZE))\n",
    "                training_data.append([new_array, class_num])\n",
    "            except Exception as e: \n",
    "                print('Exception {}'.format(e))\n",
    "\n",
    "create_training_data()\n",
    "print(len(training_data))"
   ]
  },
  {
   "cell_type": "code",
   "execution_count": 4,
   "id": "8ef95eac-305c-4980-9d5e-59d7bc9e995d",
   "metadata": {},
   "outputs": [
    {
     "name": "stdout",
     "output_type": "stream",
     "text": [
      "14\n",
      "(50, 50)\n"
     ]
    },
    {
     "data": {
      "image/png": "[encoded data removed]",
      "text/plain": [
       "<Figure size 432x288 with 1 Axes>"
      ]
     },
     "metadata": {
      "needs_background": "light"
     },
     "output_type": "display_data"
    }
   ],
   "source": [
    "# SEEING IMAGES \n",
    "first = training_data[15000][0]\n",
    "print(training_data[15000][1])\n",
    "print(first.shape)\n",
    "# new = cv2.resize(first, (IMG_SIZE, IMG_SIZE))\n",
    "plt.imshow(first, cmap='gray')\n",
    "plt.show()"
   ]
  },
  {
   "cell_type": "code",
   "execution_count": 5,
   "id": "a5e8e614-a53a-4f5a-a5e4-c8e10e978de8",
   "metadata": {},
   "outputs": [],
   "source": [
    "import random \n",
    "\n",
    "random.shuffle(training_data)\n",
    "\n"
   ]
  },
  {
   "cell_type": "code",
   "execution_count": 6,
   "id": "70b2c9f5-859f-4ccb-9578-e7fa09b5a6c8",
   "metadata": {},
   "outputs": [],
   "source": [
    "X = []  # feature set\n",
    "y = []  # label set\n",
    "for features, label in training_data: \n",
    "    X.append(features)\n",
    "    y.append(label)\n",
    "# lists can't be passed to a CNN\n",
    "X = (np.array(X)).reshape(-1, IMG_SIZE, IMG_SIZE, 1)  # make it a np array and resize\n",
    "y = np.array(y)"
   ]
  },
  {
   "cell_type": "code",
   "execution_count": 7,
   "id": "363fa815-08ec-4e70-8ee2-8100cfd3d60e",
   "metadata": {},
   "outputs": [
    {
     "name": "stderr",
     "output_type": "stream",
     "text": [
      "2021-08-12 00:08:33.774099: I tensorflow/core/platform/cpu_feature_guard.cc:142] This TensorFlow binary is optimized with oneAPI Deep Neural Network Library (oneDNN) to use the following CPU instructions in performance-critical operations:  AVX2 FMA\n",
      "To enable them in other operations, rebuild TensorFlow with the appropriate compiler flags.\n",
      "2021-08-12 00:08:34.080186: I tensorflow/compiler/mlir/mlir_graph_optimization_pass.cc:176] None of the MLIR Optimization Passes are enabled (registered 2)\n"
     ]
    },
    {
     "name": "stdout",
     "output_type": "stream",
     "text": [
      "Epoch 1/5\n",
      "1110/1110 [==============================] - 75s 67ms/step - loss: 0.7917 - accuracy: 0.7939\n",
      "Epoch 2/5\n",
      "1110/1110 [==============================] - 75s 67ms/step - loss: 0.1245 - accuracy: 0.9671\n",
      "Epoch 3/5\n",
      "1110/1110 [==============================] - 77s 69ms/step - loss: 0.0512 - accuracy: 0.9863\n",
      "Epoch 4/5\n",
      "1110/1110 [==============================] - 85s 77ms/step - loss: 0.0273 - accuracy: 0.9923\n",
      "Epoch 5/5\n",
      "1110/1110 [==============================] - 81s 73ms/step - loss: 0.0147 - accuracy: 0.9961\n"
     ]
    }
   ],
   "source": [
    "# TRAINING THE MODEL : \n",
    "X = X/255.0\n",
    "model = Sequential()\n",
    "model.add(keras.layers.Conv2D(64, (3, 3), activation='relu', input_shape=X.shape[1:]))\n",
    "model.add(keras.layers.MaxPooling2D((2, 2)))\n",
    "model.add(keras.layers.Conv2D(64, (3, 3), activation='relu'))\n",
    "model.add(keras.layers.MaxPooling2D((2, 2)))\n",
    "model.add(keras.layers.Conv2D(64, (3, 3), activation='relu'))\n",
    "model.add(keras.layers.Dense(64, activation='relu'))\n",
    "model.add(keras.layers.Flatten())\n",
    "model.add(keras.layers.Dense(35, activation='softmax'))\n",
    "# model.summary()\n",
    "\n",
    "model.compile(optimizer=Adam(learning_rate=0.0001),\n",
    "              loss='sparse_categorical_crossentropy',\n",
    "              metrics=['accuracy'])\n",
    "model.fit(X, y, epochs=5)\n",
    "# test_loss, test_acc = model.evaluate(test_images, test_labels)\n",
    "# print(test_acc)\n",
    "model.save(\"model_char_rec.h5\")\n"
   ]
  },
  {
   "cell_type": "code",
   "execution_count": null,
   "id": "4f9ed663-5ffe-4fd3-a867-4dba7fc3b864",
   "metadata": {},
   "outputs": [],
   "source": []
  }
 ],
 "metadata": {
  "kernelspec": {
   "display_name": "cats_dogs",
   "language": "python",
   "name": "cats_dogs"
  },
  "language_info": {
   "codemirror_mode": {
    "name": "ipython",
    "version": 3
   },
   "file_extension": ".py",
   "mimetype": "text/x-python",
   "name": "python",
   "nbconvert_exporter": "python",
   "pygments_lexer": "ipython3",
   "version": "3.8.2"
  }
 },
 "nbformat": 4,
 "nbformat_minor": 5
}
